{
 "cells": [
  {
   "cell_type": "markdown",
   "metadata": {},
   "source": [
    "# Regressão Linear para prever valor de imóvel\n",
    "\n",
    "## Dados e tarefa:\n",
    "\n",
    "Vamos usar o [Boston Housing Dataset](https://archive.ics.uci.edu/ml/machine-learning-databases/housing/) para prever valores de imóveis em Boston. Esse é um conjunto de dados da UCI e podemos baixá-lo e adicioná-lo no nosso repositório da forma como quisermos, mas esse conjunto de dados está disponível também na biblioteca sklearn, conforme demostrado abaixo."
   ]
  },
  {
   "cell_type": "markdown",
   "metadata": {},
   "source": [
    "## Importação dos dados e análise exploratória"
   ]
  },
  {
   "cell_type": "code",
   "execution_count": null,
   "metadata": {
    "ExecuteTime": {
     "end_time": "2020-06-04T22:05:10.557117Z",
     "start_time": "2020-06-04T22:05:08.561645Z"
    }
   },
   "outputs": [],
   "source": [
    "import numpy as np\n",
    "import pandas as pd\n",
    "import seaborn as sns\n",
    "import matplotlib.pyplot as plt\n",
    "from sklearn.model_selection import train_test_split\n",
    "from sklearn.linear_model import LinearRegression\n",
    "from sklearn.metrics import r2_score\n",
    "\n",
    "%matplotlib inline "
   ]
  },
  {
   "cell_type": "code",
   "execution_count": null,
   "metadata": {
    "ExecuteTime": {
     "end_time": "2020-06-04T22:05:10.631312Z",
     "start_time": "2020-06-04T22:05:10.559863Z"
    }
   },
   "outputs": [],
   "source": [
    "from sklearn.datasets import load_boston\n",
    "boston = load_boston()"
   ]
  },
  {
   "cell_type": "markdown",
   "metadata": {},
   "source": [
    "Attribute Information (in order)\n",
    "\n",
    "- CRIM per capita crime rate by town\n",
    "- ZN proportion of residential land zoned for lots over 25,000 sq.ft.\n",
    "- INDUS proportion of non-retail business acres per town\n",
    "- CHAS Charles River dummy variable (= 1 if tract bounds river; 0 otherwise)\n",
    "- NOX nitric oxides concentration (parts per 10 million)\n",
    "- RM average number of rooms per dwelling\n",
    "- AGE proportion of owner-occupied units built prior to 1940\n",
    "- DIS weighted distances to five Boston employment centres\n",
    "- RAD index of accessibility to radial highways\n",
    "- TAX full-value property-tax rate per \\$10,000\n",
    "- PTRATIO pupil-teacher ratio by town\n",
    "- B 1000$(Bk - 0.63)^2$ where Bk is the proportion of blacks by town\n",
    "- LSTAT lower status of the population\n",
    "- MEDV Median value of owner-occupied homes in \\$1000's"
   ]
  },
  {
   "cell_type": "code",
   "execution_count": null,
   "metadata": {
    "ExecuteTime": {
     "end_time": "2020-06-04T22:05:10.652792Z",
     "start_time": "2020-06-04T22:05:10.635188Z"
    }
   },
   "outputs": [],
   "source": [
    "boston_data = pd.DataFrame(boston.data, columns=boston.feature_names)\n",
    "boston_data['target'] = boston.target"
   ]
  },
  {
   "cell_type": "code",
   "execution_count": null,
   "metadata": {
    "ExecuteTime": {
     "end_time": "2020-06-04T22:05:10.672675Z",
     "start_time": "2020-06-04T22:05:10.661696Z"
    }
   },
   "outputs": [],
   "source": [
    "boston_data.shape"
   ]
  },
  {
   "cell_type": "code",
   "execution_count": null,
   "metadata": {
    "ExecuteTime": {
     "end_time": "2020-06-04T22:05:10.713884Z",
     "start_time": "2020-06-04T22:05:10.675906Z"
    }
   },
   "outputs": [],
   "source": [
    "boston_data.head()"
   ]
  },
  {
   "cell_type": "markdown",
   "metadata": {},
   "source": [
    "## Regressão Linear usando somente a coluna \"RM\"\n",
    "\n",
    "Complete a célula abaixo para criar, treinar e avaliar um modelo de Regressão Linear usando somente a coluna \"RM\" do conjunto de dados como característica (x). O valor do $R^2$ alcançado pelo modelo deve ser de $0.4585$."
   ]
  },
  {
   "cell_type": "code",
   "execution_count": null,
   "metadata": {
    "ExecuteTime": {
     "end_time": "2020-06-04T22:05:10.722718Z",
     "start_time": "2020-06-04T22:05:10.718057Z"
    }
   },
   "outputs": [],
   "source": [
    "# Dividindo x e y\n",
    "# [CODIGO AQUI]\n",
    "\n",
    "# Dividindo dados para treino e dados para teste\n",
    "# [CODIGO AQUI]\n",
    "\n",
    "# Treinando o modelo\n",
    "# [CODIGO AQUI]\n",
    "\n",
    "# Fazendo as predições\n",
    "# [CODIGO AQUI]\n",
    "\n",
    "# Calculando o erro r2- medida de qualidade do modelo\n",
    "# [CODIGO AQUI]"
   ]
  },
  {
   "cell_type": "markdown",
   "metadata": {},
   "source": [
    "## Regressão Linear usando somente a coluna \"PTRATIO\"\n",
    "\n",
    "Complete a célula abaixo para criar, treinar e avaliar um modelo de Regressão Linear usando somente a coluna \"PTRATIO\" do conjunto de dados como característica (x).  O valor do $R^2$ alcançado pelo modelo deve ser de $0.2798$."
   ]
  },
  {
   "cell_type": "code",
   "execution_count": null,
   "metadata": {
    "ExecuteTime": {
     "end_time": "2020-06-04T22:05:10.728455Z",
     "start_time": "2020-06-04T22:05:10.725057Z"
    }
   },
   "outputs": [],
   "source": [
    "#[CODIGO AQUI]"
   ]
  },
  {
   "cell_type": "markdown",
   "metadata": {},
   "source": [
    "## Regressão Linear usando somente a coluna \"LSTAT\"\n",
    "\n",
    "Complete a célula abaixo para criar, treinar e avaliar um modelo de Regressão Linear usando somente a coluna \"LSTAT\" do conjunto de dados como característica (x).  O valor do $R^2$ alcançado pelo modelo deve ser de $0.4887$."
   ]
  },
  {
   "cell_type": "code",
   "execution_count": null,
   "metadata": {
    "ExecuteTime": {
     "end_time": "2020-06-04T22:05:10.737426Z",
     "start_time": "2020-06-04T22:05:10.733699Z"
    }
   },
   "outputs": [],
   "source": [
    "#[CODIGO AQUI]"
   ]
  },
  {
   "cell_type": "markdown",
   "metadata": {},
   "source": [
    "## Regressão Linear usando somente as colunas \"RM\", \"PTRATIO\", \"LSTAT\"\n",
    "\n",
    "Complete a célula abaixo para criar, treinar e avaliar um modelo de Regressão Linear usando como característica (x) as três colunas conjunto de dados como usadas anteriormente \"RM\", \"PTRATIO\" e \"LSTAT\".  O valor do $R^2$ alcançado pelo modelo deve ser de $0.6509$."
   ]
  },
  {
   "cell_type": "code",
   "execution_count": null,
   "metadata": {
    "ExecuteTime": {
     "end_time": "2020-06-04T22:05:10.743550Z",
     "start_time": "2020-06-04T22:05:10.740061Z"
    }
   },
   "outputs": [],
   "source": [
    "#[CODIGO AQUI]"
   ]
  },
  {
   "cell_type": "markdown",
   "metadata": {},
   "source": [
    "## Regressão Linear usando todas as colunas disponíveis no conjunto\n",
    "\n",
    "Complete a célula abaixo para criar, treinar e avaliar um modelo de Regressão Linear usando como característica (x) todas colunas conjunto de dados. Não esqueça de excluir a variavél resposta do conjunto de características (x).  O valor do $R^2$ alcançado pelo modelo deve ser de $0.7112$."
   ]
  },
  {
   "cell_type": "code",
   "execution_count": null,
   "metadata": {
    "ExecuteTime": {
     "end_time": "2020-06-04T22:05:10.766569Z",
     "start_time": "2020-06-04T22:05:10.747187Z"
    }
   },
   "outputs": [],
   "source": [
    "#[CODIGO AQUI]"
   ]
  },
  {
   "cell_type": "markdown",
   "metadata": {},
   "source": [
    "## Para finalizar: intepretação dos modelos \n",
    "\n",
    "- Qual a ordem dos modelos construídos do que obteve maior qualidade para o que obteve menor qualidade?\n",
    "- E qual passo precisaria ser incluído para que conseguíssemos interpretar os coeficientes obtidos corretamente?"
   ]
  }
 ],
 "metadata": {
  "kernelspec": {
   "display_name": "Python 3",
   "language": "python",
   "name": "python3"
  },
  "language_info": {
   "codemirror_mode": {
    "name": "ipython",
    "version": 3
   },
   "file_extension": ".py",
   "mimetype": "text/x-python",
   "name": "python",
   "nbconvert_exporter": "python",
   "pygments_lexer": "ipython3",
   "version": "3.7.1"
  },
  "toc": {
   "base_numbering": 1,
   "nav_menu": {},
   "number_sections": true,
   "sideBar": true,
   "skip_h1_title": false,
   "title_cell": "Table of Contents",
   "title_sidebar": "Contents",
   "toc_cell": false,
   "toc_position": {},
   "toc_section_display": true,
   "toc_window_display": true
  }
 },
 "nbformat": 4,
 "nbformat_minor": 2
}
