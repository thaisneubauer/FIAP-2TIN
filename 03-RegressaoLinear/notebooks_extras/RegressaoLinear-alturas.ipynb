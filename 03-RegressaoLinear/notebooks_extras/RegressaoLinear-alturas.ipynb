{
 "cells": [
  {
   "cell_type": "markdown",
   "metadata": {},
   "source": [
    "# Regressão Linear para alturas\n",
    "\n",
    "## Dados e tarefa:\n",
    "\n",
    "Vamos usar o famoso [Galton Dataset](https://dataverse.harvard.edu/dataset.xhtml?persistentId=doi:10.7910/DVN/T0HSJ1) para **prever a altura de pessoas** com base em características da família."
   ]
  },
  {
   "cell_type": "markdown",
   "metadata": {},
   "source": [
    "## Importação dos dados e análise exploratória"
   ]
  },
  {
   "cell_type": "code",
   "execution_count": null,
   "metadata": {
    "ExecuteTime": {
     "end_time": "2020-06-04T21:56:21.754061Z",
     "start_time": "2020-06-04T21:56:21.745895Z"
    }
   },
   "outputs": [],
   "source": [
    "import numpy as np\n",
    "import pandas as pd\n",
    "import seaborn as sns\n",
    "import matplotlib.pyplot as plt\n",
    "from sklearn.preprocessing import LabelEncoder\n",
    "from sklearn.model_selection import train_test_split\n",
    "from sklearn.linear_model import LinearRegression\n",
    "from sklearn.metrics import r2_score\n",
    "\n",
    "%matplotlib inline "
   ]
  },
  {
   "cell_type": "code",
   "execution_count": null,
   "metadata": {
    "ExecuteTime": {
     "end_time": "2020-06-04T21:56:21.766646Z",
     "start_time": "2020-06-04T21:56:21.757102Z"
    }
   },
   "outputs": [],
   "source": [
    "df = pd.read_csv('../data/galton.csv')"
   ]
  },
  {
   "cell_type": "code",
   "execution_count": null,
   "metadata": {
    "ExecuteTime": {
     "end_time": "2020-06-04T21:56:21.776652Z",
     "start_time": "2020-06-04T21:56:21.768210Z"
    }
   },
   "outputs": [],
   "source": [
    "df.shape"
   ]
  },
  {
   "cell_type": "code",
   "execution_count": null,
   "metadata": {
    "ExecuteTime": {
     "end_time": "2020-06-04T21:56:21.803495Z",
     "start_time": "2020-06-04T21:56:21.781111Z"
    }
   },
   "outputs": [],
   "source": [
    "df.head()"
   ]
  },
  {
   "cell_type": "markdown",
   "metadata": {},
   "source": [
    "**Dicionário de dados**:\n",
    "\n",
    "* **Family**: Família de origem\n",
    "* **Father**: Altura do Pai\n",
    "* **Mother**: Altura da Mãe\n",
    "* **Gender**: Sexo do Filho\n",
    "* **Height**: Altura do Filho\n",
    "* **Kids**: Quantidade de Filhos\n"
   ]
  },
  {
   "cell_type": "code",
   "execution_count": null,
   "metadata": {
    "ExecuteTime": {
     "end_time": "2020-06-04T21:56:21.827129Z",
     "start_time": "2020-06-04T21:56:21.807539Z"
    }
   },
   "outputs": [],
   "source": [
    "# Precisamos transformar a variável Gender em número\n",
    "df['Gender_'] = LabelEncoder().fit_transform(df.Gender)\n",
    "df.head()"
   ]
  },
  {
   "cell_type": "code",
   "execution_count": null,
   "metadata": {
    "ExecuteTime": {
     "end_time": "2020-06-04T21:56:23.230023Z",
     "start_time": "2020-06-04T21:56:23.215339Z"
    }
   },
   "outputs": [],
   "source": [
    "df = df.drop(columns = ['Gender', 'Family'])[['Father', 'Mother', 'Gender_', 'Kids', 'Height']]\n",
    "df.head()"
   ]
  },
  {
   "cell_type": "markdown",
   "metadata": {},
   "source": [
    "## Regressão Linear\n",
    "\n",
    "Complete a célula abaixo para criar, treinar e avaliar um modelo de Regressão Linear usando todas as características disponíveis no dataframe. Lembre-se de não utilizar a variável resposta (\"fare_amount\"), a variável identificadora da corrida (\"key\") e não precisamos da \"pickup_datetime\", pois vamos usar as características derivadas dela que criamos (hour, day_of_week, day, month, year).\n",
    "\n",
    "O valor do $R^2$ alcançado pelo modelo deve ser de $0.6602$."
   ]
  },
  {
   "cell_type": "code",
   "execution_count": null,
   "metadata": {
    "ExecuteTime": {
     "end_time": "2020-06-04T21:59:40.121852Z",
     "start_time": "2020-06-04T21:59:40.116879Z"
    }
   },
   "outputs": [],
   "source": [
    "# Dividindo x e y\n",
    "# [CODIGO AQUI]\n",
    "\n",
    "# Dividindo dados para treino e dados para teste\n",
    "# [CODIGO AQUI]\n",
    "\n",
    "# Treinando o modelo\n",
    "# [CODIGO AQUI]\n",
    "\n",
    "# Fazendo as predições\n",
    "# [CODIGO AQUI]\n",
    "\n",
    "# Calculando o erro r2- medida de qualidade do modelo\n",
    "# [CODIGO AQUI]"
   ]
  }
 ],
 "metadata": {
  "kernelspec": {
   "display_name": "Python 3",
   "language": "python",
   "name": "python3"
  },
  "language_info": {
   "codemirror_mode": {
    "name": "ipython",
    "version": 3
   },
   "file_extension": ".py",
   "mimetype": "text/x-python",
   "name": "python",
   "nbconvert_exporter": "python",
   "pygments_lexer": "ipython3",
   "version": "3.7.1"
  },
  "toc": {
   "base_numbering": 1,
   "nav_menu": {},
   "number_sections": true,
   "sideBar": true,
   "skip_h1_title": false,
   "title_cell": "Table of Contents",
   "title_sidebar": "Contents",
   "toc_cell": false,
   "toc_position": {},
   "toc_section_display": true,
   "toc_window_display": true
  }
 },
 "nbformat": 4,
 "nbformat_minor": 2
}
