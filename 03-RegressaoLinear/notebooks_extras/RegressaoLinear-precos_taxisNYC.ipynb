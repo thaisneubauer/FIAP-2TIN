{
 "cells": [
  {
   "cell_type": "markdown",
   "metadata": {},
   "source": [
    "# Regressão Linear para prever valor de corrida de táxi\n",
    "\n",
    "## Dados e tarefa:\n",
    "\n",
    "Vamos usar o [New York City Taxi Fare Prediction](https://www.kaggle.com/c/new-york-city-taxi-fare-prediction/data) para **prever valores das corridas de táxi na cidade de Nova York**."
   ]
  },
  {
   "cell_type": "markdown",
   "metadata": {},
   "source": [
    "## Importação dos dados e análise exploratória"
   ]
  },
  {
   "cell_type": "code",
   "execution_count": null,
   "metadata": {
    "ExecuteTime": {
     "end_time": "2020-06-05T02:21:21.791091Z",
     "start_time": "2020-06-05T02:21:21.767196Z"
    }
   },
   "outputs": [],
   "source": [
    "import os\n",
    "import zipfile\n",
    "import numpy as np\n",
    "import pandas as pd\n",
    "import seaborn as sns\n",
    "import matplotlib.pyplot as plt\n",
    "from sklearn.model_selection import train_test_split\n",
    "from sklearn.linear_model import LinearRegression\n",
    "from sklearn.metrics import r2_score\n",
    "\n",
    "%matplotlib inline "
   ]
  },
  {
   "cell_type": "code",
   "execution_count": null,
   "metadata": {
    "ExecuteTime": {
     "end_time": "2020-06-05T02:24:00.618570Z",
     "start_time": "2020-06-05T02:23:56.622151Z"
    }
   },
   "outputs": [],
   "source": [
    "# unzipping data...\n",
    "if not (os.path.exists('../data/taxisNYC.csv')):\n",
    "    print('Unzipping taxi data...')\n",
    "    with zipfile.ZipFile('../data/taxisNYC.csv.zip', 'r') as zip_ref:\n",
    "        zip_ref.extractall('../data/')\n",
    "    print('Done!')\n",
    "# loading data...\n",
    "df = pd.read_csv('../data/taxisNYC.csv')"
   ]
  },
  {
   "cell_type": "code",
   "execution_count": null,
   "metadata": {
    "ExecuteTime": {
     "end_time": "2020-06-05T02:23:03.868151Z",
     "start_time": "2020-06-05T02:23:03.859706Z"
    }
   },
   "outputs": [],
   "source": [
    "df.shape"
   ]
  },
  {
   "cell_type": "code",
   "execution_count": null,
   "metadata": {
    "ExecuteTime": {
     "end_time": "2020-06-04T22:06:28.582549Z",
     "start_time": "2020-06-04T22:06:28.548483Z"
    }
   },
   "outputs": [],
   "source": [
    "df.head()"
   ]
  },
  {
   "cell_type": "markdown",
   "metadata": {},
   "source": [
    "**Dicionário de dados**:\n",
    "\n",
    "* **key** - chave única que IDENTIFICA CADA exemplo - *NÃO USAR EM MODELOS!!!*\n",
    "\n",
    "* **fare_amount**\t- valor, em doláres, indicando o valor pago na corrida de táxi\n",
    "\n",
    "* **pickup_datetime**\t- timestamp indicando quando a corrida começou\n",
    "\n",
    "* **pickup_longitude** - longitude na qual a corrida de táxi começou\n",
    "\n",
    "* **pickup_latitude** - latitude na qual a corrida de táxi começou\n",
    "\n",
    "* **dropoff_longitude** - longitude na qual a corrida de táxi acabou\n",
    "\n",
    "* **dropoff_latitude** - latitude na qual a corrida de táxi acabou\n",
    "\n",
    "* **passenger_count** - número de passageiros\n"
   ]
  },
  {
   "cell_type": "markdown",
   "metadata": {},
   "source": [
    "## Análise exploratória e feature engineering"
   ]
  },
  {
   "cell_type": "code",
   "execution_count": null,
   "metadata": {
    "ExecuteTime": {
     "end_time": "2020-06-04T22:07:07.478711Z",
     "start_time": "2020-06-04T22:06:28.603508Z"
    }
   },
   "outputs": [],
   "source": [
    "df.dropna(inplace=True)\n",
    "# Usaremos somente as corridas que estão registradas com pelo menos 1 dolar e no máx 100.\n",
    "df = df.loc[(df.fare_amount >= 1) & (df.fare_amount <= 100)]\n",
    "# Usaremos somente as corridas que estão registradas com pelo menos 1 passageiro e no máx 7.\n",
    "df = df.loc[(df.passenger_count > 0) & (df.passenger_count<8)]\n",
    "df['pickup_datetime'] = pd.to_datetime(df['pickup_datetime'],format='%Y-%m-%d %H:%M:%S UTC')\n",
    "\n",
    "# horário\n",
    "df['pickup_hour']=df['pickup_datetime'].apply(lambda x:x.hour)\n",
    "# dia da semana (0 é segunda e 6 é domingo)\n",
    "df['pickup_day_of_week']=df['pickup_datetime'].apply(lambda x:x.weekday())\n",
    "# dia\n",
    "df['pickup_day']=df['pickup_datetime'].apply(lambda x:x.day)\n",
    "# mês\n",
    "df['pickup_month']=df['pickup_datetime'].apply(lambda x:x.month)\n",
    "# ano\n",
    "df['pickup_year']=df['pickup_datetime'].apply(lambda x:x.year)\n",
    "\n",
    "# As coordenadas de latitude variam apenas entre -90 e 90, e a longitude, entre -180 e 180. \n",
    "# Mais especificamente, o intervalo de coordenadas em NYC é:\n",
    "# long_interval = (-74.04, -73.75)\n",
    "# lat_interval = (40.63, 40.88)\n",
    "# Então, podemos excluir os exemplos que estão fora desses intervalos:\n",
    "df = df.loc[(df.pickup_latitude>=40.63) & (df.pickup_latitude<=40.88)]\n",
    "df = df.loc[(df.pickup_longitude>=-74.04) & (df.pickup_longitude<=-73.75)]\n",
    "df = df.loc[(df.dropoff_latitude>=40.63) & (df.dropoff_latitude<=40.88)]\n",
    "df = df.loc[(df.dropoff_longitude>=-74.04) & (df.dropoff_longitude<=-73.75)]"
   ]
  },
  {
   "cell_type": "code",
   "execution_count": null,
   "metadata": {
    "ExecuteTime": {
     "end_time": "2020-06-04T22:07:18.343386Z",
     "start_time": "2020-06-04T22:07:07.480558Z"
    }
   },
   "outputs": [],
   "source": [
    "#Agora, com os intervalos ajustados, podemos ver os pontos de origens graficamente:\n",
    "\n",
    "df.plot(kind='scatter', x='pickup_longitude', y='pickup_latitude',\n",
    "                color='green', \n",
    "                s=.02, alpha=.6)"
   ]
  },
  {
   "cell_type": "code",
   "execution_count": null,
   "metadata": {
    "ExecuteTime": {
     "end_time": "2020-06-04T22:07:29.370157Z",
     "start_time": "2020-06-04T22:07:18.345920Z"
    }
   },
   "outputs": [],
   "source": [
    "# E também os de destino:\n",
    "df.plot(kind='scatter', x='dropoff_longitude', y='dropoff_latitude',\n",
    "                color='green', \n",
    "                s=.02, alpha=.6)\n",
    "plt.title(\"Destinos\");"
   ]
  },
  {
   "cell_type": "code",
   "execution_count": null,
   "metadata": {
    "ExecuteTime": {
     "end_time": "2020-06-04T22:07:29.537534Z",
     "start_time": "2020-06-04T22:07:29.373547Z"
    }
   },
   "outputs": [],
   "source": [
    "# Criação de características para darem a ideia de distancia percorrida:\n",
    "\n",
    "df['abs_diff_longitude'] = (df.dropoff_longitude - df.pickup_longitude).abs()\n",
    "df['abs_diff_latitude'] = (df.dropoff_latitude - df.pickup_latitude).abs()"
   ]
  },
  {
   "cell_type": "markdown",
   "metadata": {},
   "source": [
    "## Regressão Linear\n",
    "\n",
    "Complete a célula abaixo para criar, treinar e avaliar um modelo de Regressão Linear usando todas as características disponíveis no dataframe. Lembre-se de não utilizar a variável resposta (\"fare_amount\"), a variável identificadora da corrida (\"key\") e não precisamos da \"pickup_datetime\", pois vamos usar as características derivadas dela que criamos (hour, day_of_week, day, month, year).\n",
    "\n",
    "O valor do $R^2$ alcançado pelo modelo deve ser de $0.776$."
   ]
  },
  {
   "cell_type": "code",
   "execution_count": null,
   "metadata": {
    "ExecuteTime": {
     "end_time": "2020-06-04T22:07:29.547552Z",
     "start_time": "2020-06-04T22:07:29.541633Z"
    }
   },
   "outputs": [],
   "source": [
    "# Dividindo x e y\n",
    "# [CODIGO AQUI]\n",
    "\n",
    "# Dividindo dados para treino e dados para teste\n",
    "# [CODIGO AQUI]\n",
    "\n",
    "# Treinando o modelo\n",
    "# [CODIGO AQUI]\n",
    "\n",
    "# Fazendo as predições\n",
    "# [CODIGO AQUI]\n",
    "\n",
    "# Calculando o erro r2- medida de qualidade do modelo\n",
    "# [CODIGO AQUI]"
   ]
  },
  {
   "cell_type": "markdown",
   "metadata": {},
   "source": [
    "## Próximos passos:\n",
    "\n",
    "- Usamos aqui um recorte do conjunto originalmente disponibilizado no Kaggle, poderíamos baixar os 5Gb de dados e treinar com mais exemplos \n",
    "- Poderíamos criar uma características que calcula com maior exatidão a distância entre dois pontos, dado a longitude e a latitude dos pontos.\n",
    "- Podemos usar bibliotecas de visualizações gráficas usando mapas mesmo para explorar mais insights com os resultados obtidos, como, por exemplo, tentar identificar se tem alguma região que estamos errando mais a predição."
   ]
  }
 ],
 "metadata": {
  "kernelspec": {
   "display_name": "Python 3",
   "language": "python",
   "name": "python3"
  },
  "language_info": {
   "codemirror_mode": {
    "name": "ipython",
    "version": 3
   },
   "file_extension": ".py",
   "mimetype": "text/x-python",
   "name": "python",
   "nbconvert_exporter": "python",
   "pygments_lexer": "ipython3",
   "version": "3.7.1"
  },
  "toc": {
   "base_numbering": 1,
   "nav_menu": {},
   "number_sections": true,
   "sideBar": true,
   "skip_h1_title": false,
   "title_cell": "Table of Contents",
   "title_sidebar": "Contents",
   "toc_cell": false,
   "toc_position": {},
   "toc_section_display": true,
   "toc_window_display": true
  }
 },
 "nbformat": 4,
 "nbformat_minor": 2
}
