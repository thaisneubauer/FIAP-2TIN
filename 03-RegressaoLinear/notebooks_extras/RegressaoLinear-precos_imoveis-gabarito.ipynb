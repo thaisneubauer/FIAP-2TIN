{
 "cells": [
  {
   "cell_type": "markdown",
   "metadata": {},
   "source": [
    "# Regressão Linear para prever valor de imóvel\n",
    "\n",
    "## Dados e tarefa:\n",
    "\n",
    "Vamos usar o [Boston Housing Dataset](https://archive.ics.uci.edu/ml/machine-learning-databases/housing/) para prever valores de imóveis em Boston. Esse é um conjunto de dados da UCI e podemos baixá-lo e adicioná-lo no nosso repositório da forma como quisermos, mas esse conjunto de dados está disponível também na biblioteca sklearn, conforme demostrado abaixo."
   ]
  },
  {
   "cell_type": "markdown",
   "metadata": {},
   "source": [
    "## Importação dos dados e análise exploratória"
   ]
  },
  {
   "cell_type": "code",
   "execution_count": 1,
   "metadata": {
    "ExecuteTime": {
     "end_time": "2020-06-04T22:05:35.873604Z",
     "start_time": "2020-06-04T22:05:33.856661Z"
    }
   },
   "outputs": [],
   "source": [
    "import numpy as np\n",
    "import pandas as pd\n",
    "import seaborn as sns\n",
    "import matplotlib.pyplot as plt\n",
    "from sklearn.model_selection import train_test_split\n",
    "from sklearn.linear_model import LinearRegression\n",
    "from sklearn.metrics import r2_score\n",
    "\n",
    "%matplotlib inline "
   ]
  },
  {
   "cell_type": "code",
   "execution_count": 2,
   "metadata": {
    "ExecuteTime": {
     "end_time": "2020-06-04T22:05:35.945222Z",
     "start_time": "2020-06-04T22:05:35.876369Z"
    }
   },
   "outputs": [],
   "source": [
    "from sklearn.datasets import load_boston\n",
    "boston = load_boston()"
   ]
  },
  {
   "cell_type": "markdown",
   "metadata": {},
   "source": [
    "Attribute Information (in order)\n",
    "\n",
    "- CRIM per capita crime rate by town\n",
    "- ZN proportion of residential land zoned for lots over 25,000 sq.ft.\n",
    "- INDUS proportion of non-retail business acres per town\n",
    "- CHAS Charles River dummy variable (= 1 if tract bounds river; 0 otherwise)\n",
    "- NOX nitric oxides concentration (parts per 10 million)\n",
    "- RM average number of rooms per dwelling\n",
    "- AGE proportion of owner-occupied units built prior to 1940\n",
    "- DIS weighted distances to five Boston employment centres\n",
    "- RAD index of accessibility to radial highways\n",
    "- TAX full-value property-tax rate per \\$10,000\n",
    "- PTRATIO pupil-teacher ratio by town\n",
    "- B 1000$(Bk - 0.63)^2$ where Bk is the proportion of blacks by town\n",
    "- LSTAT lower status of the population\n",
    "- MEDV Median value of owner-occupied homes in \\$1000's"
   ]
  },
  {
   "cell_type": "code",
   "execution_count": 3,
   "metadata": {
    "ExecuteTime": {
     "end_time": "2020-06-04T22:05:35.968593Z",
     "start_time": "2020-06-04T22:05:35.949790Z"
    }
   },
   "outputs": [],
   "source": [
    "boston_data = pd.DataFrame(boston.data, columns=boston.feature_names)\n",
    "boston_data['target'] = boston.target"
   ]
  },
  {
   "cell_type": "code",
   "execution_count": 4,
   "metadata": {
    "ExecuteTime": {
     "end_time": "2020-06-04T22:05:36.003820Z",
     "start_time": "2020-06-04T22:05:35.974388Z"
    }
   },
   "outputs": [
    {
     "data": {
      "text/plain": [
       "(506, 14)"
      ]
     },
     "execution_count": 4,
     "metadata": {},
     "output_type": "execute_result"
    }
   ],
   "source": [
    "boston_data.shape"
   ]
  },
  {
   "cell_type": "code",
   "execution_count": 5,
   "metadata": {
    "ExecuteTime": {
     "end_time": "2020-06-04T22:05:36.049495Z",
     "start_time": "2020-06-04T22:05:36.009801Z"
    }
   },
   "outputs": [
    {
     "data": {
      "text/html": [
       "<div>\n",
       "<style scoped>\n",
       "    .dataframe tbody tr th:only-of-type {\n",
       "        vertical-align: middle;\n",
       "    }\n",
       "\n",
       "    .dataframe tbody tr th {\n",
       "        vertical-align: top;\n",
       "    }\n",
       "\n",
       "    .dataframe thead th {\n",
       "        text-align: right;\n",
       "    }\n",
       "</style>\n",
       "<table border=\"1\" class=\"dataframe\">\n",
       "  <thead>\n",
       "    <tr style=\"text-align: right;\">\n",
       "      <th></th>\n",
       "      <th>CRIM</th>\n",
       "      <th>ZN</th>\n",
       "      <th>INDUS</th>\n",
       "      <th>CHAS</th>\n",
       "      <th>NOX</th>\n",
       "      <th>RM</th>\n",
       "      <th>AGE</th>\n",
       "      <th>DIS</th>\n",
       "      <th>RAD</th>\n",
       "      <th>TAX</th>\n",
       "      <th>PTRATIO</th>\n",
       "      <th>B</th>\n",
       "      <th>LSTAT</th>\n",
       "      <th>target</th>\n",
       "    </tr>\n",
       "  </thead>\n",
       "  <tbody>\n",
       "    <tr>\n",
       "      <th>0</th>\n",
       "      <td>0.00632</td>\n",
       "      <td>18.0</td>\n",
       "      <td>2.31</td>\n",
       "      <td>0.0</td>\n",
       "      <td>0.538</td>\n",
       "      <td>6.575</td>\n",
       "      <td>65.2</td>\n",
       "      <td>4.0900</td>\n",
       "      <td>1.0</td>\n",
       "      <td>296.0</td>\n",
       "      <td>15.3</td>\n",
       "      <td>396.90</td>\n",
       "      <td>4.98</td>\n",
       "      <td>24.0</td>\n",
       "    </tr>\n",
       "    <tr>\n",
       "      <th>1</th>\n",
       "      <td>0.02731</td>\n",
       "      <td>0.0</td>\n",
       "      <td>7.07</td>\n",
       "      <td>0.0</td>\n",
       "      <td>0.469</td>\n",
       "      <td>6.421</td>\n",
       "      <td>78.9</td>\n",
       "      <td>4.9671</td>\n",
       "      <td>2.0</td>\n",
       "      <td>242.0</td>\n",
       "      <td>17.8</td>\n",
       "      <td>396.90</td>\n",
       "      <td>9.14</td>\n",
       "      <td>21.6</td>\n",
       "    </tr>\n",
       "    <tr>\n",
       "      <th>2</th>\n",
       "      <td>0.02729</td>\n",
       "      <td>0.0</td>\n",
       "      <td>7.07</td>\n",
       "      <td>0.0</td>\n",
       "      <td>0.469</td>\n",
       "      <td>7.185</td>\n",
       "      <td>61.1</td>\n",
       "      <td>4.9671</td>\n",
       "      <td>2.0</td>\n",
       "      <td>242.0</td>\n",
       "      <td>17.8</td>\n",
       "      <td>392.83</td>\n",
       "      <td>4.03</td>\n",
       "      <td>34.7</td>\n",
       "    </tr>\n",
       "    <tr>\n",
       "      <th>3</th>\n",
       "      <td>0.03237</td>\n",
       "      <td>0.0</td>\n",
       "      <td>2.18</td>\n",
       "      <td>0.0</td>\n",
       "      <td>0.458</td>\n",
       "      <td>6.998</td>\n",
       "      <td>45.8</td>\n",
       "      <td>6.0622</td>\n",
       "      <td>3.0</td>\n",
       "      <td>222.0</td>\n",
       "      <td>18.7</td>\n",
       "      <td>394.63</td>\n",
       "      <td>2.94</td>\n",
       "      <td>33.4</td>\n",
       "    </tr>\n",
       "    <tr>\n",
       "      <th>4</th>\n",
       "      <td>0.06905</td>\n",
       "      <td>0.0</td>\n",
       "      <td>2.18</td>\n",
       "      <td>0.0</td>\n",
       "      <td>0.458</td>\n",
       "      <td>7.147</td>\n",
       "      <td>54.2</td>\n",
       "      <td>6.0622</td>\n",
       "      <td>3.0</td>\n",
       "      <td>222.0</td>\n",
       "      <td>18.7</td>\n",
       "      <td>396.90</td>\n",
       "      <td>5.33</td>\n",
       "      <td>36.2</td>\n",
       "    </tr>\n",
       "  </tbody>\n",
       "</table>\n",
       "</div>"
      ],
      "text/plain": [
       "      CRIM    ZN  INDUS  CHAS    NOX     RM   AGE     DIS  RAD    TAX  \\\n",
       "0  0.00632  18.0   2.31   0.0  0.538  6.575  65.2  4.0900  1.0  296.0   \n",
       "1  0.02731   0.0   7.07   0.0  0.469  6.421  78.9  4.9671  2.0  242.0   \n",
       "2  0.02729   0.0   7.07   0.0  0.469  7.185  61.1  4.9671  2.0  242.0   \n",
       "3  0.03237   0.0   2.18   0.0  0.458  6.998  45.8  6.0622  3.0  222.0   \n",
       "4  0.06905   0.0   2.18   0.0  0.458  7.147  54.2  6.0622  3.0  222.0   \n",
       "\n",
       "   PTRATIO       B  LSTAT  target  \n",
       "0     15.3  396.90   4.98    24.0  \n",
       "1     17.8  396.90   9.14    21.6  \n",
       "2     17.8  392.83   4.03    34.7  \n",
       "3     18.7  394.63   2.94    33.4  \n",
       "4     18.7  396.90   5.33    36.2  "
      ]
     },
     "execution_count": 5,
     "metadata": {},
     "output_type": "execute_result"
    }
   ],
   "source": [
    "boston_data.head()"
   ]
  },
  {
   "cell_type": "markdown",
   "metadata": {},
   "source": [
    "## Regressão Linear usando somente a coluna \"RM\"\n",
    "\n",
    "Complete a célula abaixo para criar, treinar e avaliar um modelo de Regressão Linear usando somente a coluna \"RM\" do conjunto de dados como característica (x). O valor do $R^2$ alcançado pelo modelo deve ser de $0.4585$."
   ]
  },
  {
   "cell_type": "code",
   "execution_count": 6,
   "metadata": {
    "ExecuteTime": {
     "end_time": "2020-06-04T22:05:36.100974Z",
     "start_time": "2020-06-04T22:05:36.058972Z"
    }
   },
   "outputs": [
    {
     "data": {
      "text/plain": [
       "0.4585"
      ]
     },
     "execution_count": 6,
     "metadata": {},
     "output_type": "execute_result"
    }
   ],
   "source": [
    "x = boston_data.RM\n",
    "y = boston_data.target\n",
    "\n",
    "x_train, x_test, y_train, y_test = train_test_split(x, y, test_size = 0.3, \n",
    "                                                    random_state = 42)\n",
    "model = LinearRegression().fit(x_train.values.reshape(-1, 1), y_train)\n",
    "\n",
    "y_pred = model.predict(x_test.values.reshape(-1, 1))\n",
    "round(r2_score(y_test, y_pred),4)"
   ]
  },
  {
   "cell_type": "markdown",
   "metadata": {},
   "source": [
    "## Regressão Linear usando somente a coluna \"PTRATIO\"\n",
    "\n",
    "Complete a célula abaixo para criar, treinar e avaliar um modelo de Regressão Linear usando somente a coluna \"PTRATIO\" do conjunto de dados como característica (x).  O valor do $R^2$ alcançado pelo modelo deve ser de $0.2798$."
   ]
  },
  {
   "cell_type": "code",
   "execution_count": 7,
   "metadata": {
    "ExecuteTime": {
     "end_time": "2020-06-04T22:05:36.124249Z",
     "start_time": "2020-06-04T22:05:36.103025Z"
    }
   },
   "outputs": [
    {
     "data": {
      "text/plain": [
       "0.2798"
      ]
     },
     "execution_count": 7,
     "metadata": {},
     "output_type": "execute_result"
    }
   ],
   "source": [
    "x = boston_data.PTRATIO\n",
    "y = boston_data.target\n",
    "\n",
    "x_train, x_test, y_train, y_test = train_test_split(x, y, test_size = 0.3, \n",
    "                                                    random_state = 42)\n",
    "model = LinearRegression().fit(x_train.values.reshape(-1, 1), y_train)\n",
    "\n",
    "y_pred = model.predict(x_test.values.reshape(-1, 1))\n",
    "round(r2_score(y_test, y_pred),4)"
   ]
  },
  {
   "cell_type": "markdown",
   "metadata": {},
   "source": [
    "## Regressão Linear usando somente a coluna \"LSTAT\"\n",
    "\n",
    "Complete a célula abaixo para criar, treinar e avaliar um modelo de Regressão Linear usando somente a coluna \"LSTAT\" do conjunto de dados como característica (x).  O valor do $R^2$ alcançado pelo modelo deve ser de $0.4887$."
   ]
  },
  {
   "cell_type": "code",
   "execution_count": 8,
   "metadata": {
    "ExecuteTime": {
     "end_time": "2020-06-04T22:05:36.141583Z",
     "start_time": "2020-06-04T22:05:36.127941Z"
    }
   },
   "outputs": [
    {
     "data": {
      "text/plain": [
       "0.4887"
      ]
     },
     "execution_count": 8,
     "metadata": {},
     "output_type": "execute_result"
    }
   ],
   "source": [
    "x = boston_data.LSTAT\n",
    "y = boston_data.target\n",
    "\n",
    "x_train, x_test, y_train, y_test = train_test_split(x, y, test_size = 0.3, \n",
    "                                                    random_state = 42)\n",
    "model = LinearRegression().fit(x_train.values.reshape(-1, 1), y_train)\n",
    "\n",
    "y_pred = model.predict(x_test.values.reshape(-1, 1))\n",
    "round(r2_score(y_test, y_pred),4)"
   ]
  },
  {
   "cell_type": "markdown",
   "metadata": {},
   "source": [
    "## Regressão Linear usando somente as colunas \"RM\", \"PTRATIO\", \"LSTAT\"\n",
    "\n",
    "Complete a célula abaixo para criar, treinar e avaliar um modelo de Regressão Linear usando como característica (x) as três colunas conjunto de dados como usadas anteriormente \"RM\", \"PTRATIO\" e \"LSTAT\".  O valor do $R^2$ alcançado pelo modelo deve ser de $0.6509$."
   ]
  },
  {
   "cell_type": "code",
   "execution_count": 9,
   "metadata": {
    "ExecuteTime": {
     "end_time": "2020-06-04T22:05:36.175896Z",
     "start_time": "2020-06-04T22:05:36.145500Z"
    }
   },
   "outputs": [
    {
     "data": {
      "text/plain": [
       "0.6509"
      ]
     },
     "execution_count": 9,
     "metadata": {},
     "output_type": "execute_result"
    }
   ],
   "source": [
    "x = boston_data[['RM', 'PTRATIO', 'LSTAT']]\n",
    "y = boston_data.target\n",
    "\n",
    "x_train, x_test, y_train, y_test = train_test_split(x, y, test_size = 0.3, \n",
    "                                                    random_state = 42)\n",
    "model = LinearRegression().fit(x_train, y_train)\n",
    "\n",
    "y_pred = model.predict(x_test)\n",
    "round(r2_score(y_test, y_pred),4)"
   ]
  },
  {
   "cell_type": "markdown",
   "metadata": {},
   "source": [
    "## Regressão Linear usando todas as colunas disponíveis no conjunto\n",
    "\n",
    "Complete a célula abaixo para criar, treinar e avaliar um modelo de Regressão Linear usando como característica (x) todas colunas conjunto de dados. Não esqueça de excluir a variavél resposta do conjunto de características (x).  O valor do $R^2$ alcançado pelo modelo deve ser de $0.7112$."
   ]
  },
  {
   "cell_type": "code",
   "execution_count": 10,
   "metadata": {
    "ExecuteTime": {
     "end_time": "2020-06-04T22:05:36.221199Z",
     "start_time": "2020-06-04T22:05:36.180392Z"
    }
   },
   "outputs": [
    {
     "data": {
      "text/plain": [
       "0.7112"
      ]
     },
     "execution_count": 10,
     "metadata": {},
     "output_type": "execute_result"
    }
   ],
   "source": [
    "x = boston_data.drop(columns = 'target')\n",
    "y = boston_data.target\n",
    "\n",
    "x_train, x_test, y_train, y_test = train_test_split(x, y, test_size = 0.3, \n",
    "                                                    random_state = 42)\n",
    "model = LinearRegression().fit(x_train, y_train)\n",
    "\n",
    "y_pred = model.predict(x_test)\n",
    "round(r2_score(y_test, y_pred),4)"
   ]
  },
  {
   "cell_type": "markdown",
   "metadata": {},
   "source": [
    "## Para finalizar: intepretação dos modelos \n",
    "\n",
    "* Qual a ordem dos modelos construídos do que obteve maior qualidade para o que obteve menor qualidade?\n",
    "\n",
    "Resposta: todos os valores de R2 são positivos, então todos os modelos criados são melhores do que o modelo \"naive\" que preve o valor médio de preço; a ordem dos modelos, então, ficaria: com todas as colunas > com RM, PTRATIO e LSTAT > com LSTAT > com RM > com PTRATIO\n",
    " \n",
    "* E qual passo precisaria ser incluído para que conseguíssemos interpretar os coeficientes obtidos corretamente?\n",
    "\n",
    "Resposta: para que os coeficientes possam ser interpretados corretamente, precisamos fazer a padronização dos dados, como demonstrado na célula abaixo:"
   ]
  },
  {
   "cell_type": "code",
   "execution_count": 11,
   "metadata": {
    "ExecuteTime": {
     "end_time": "2020-06-04T22:05:36.277099Z",
     "start_time": "2020-06-04T22:05:36.223669Z"
    }
   },
   "outputs": [
    {
     "data": {
      "text/html": [
       "<div>\n",
       "<style scoped>\n",
       "    .dataframe tbody tr th:only-of-type {\n",
       "        vertical-align: middle;\n",
       "    }\n",
       "\n",
       "    .dataframe tbody tr th {\n",
       "        vertical-align: top;\n",
       "    }\n",
       "\n",
       "    .dataframe thead th {\n",
       "        text-align: right;\n",
       "    }\n",
       "</style>\n",
       "<table border=\"1\" class=\"dataframe\">\n",
       "  <thead>\n",
       "    <tr style=\"text-align: right;\">\n",
       "      <th></th>\n",
       "      <th>feature</th>\n",
       "      <th>coef</th>\n",
       "    </tr>\n",
       "  </thead>\n",
       "  <tbody>\n",
       "    <tr>\n",
       "      <th>0</th>\n",
       "      <td>RM</td>\n",
       "      <td>4.0572</td>\n",
       "    </tr>\n",
       "    <tr>\n",
       "      <th>1</th>\n",
       "      <td>CHAS</td>\n",
       "      <td>3.1198</td>\n",
       "    </tr>\n",
       "    <tr>\n",
       "      <th>2</th>\n",
       "      <td>RAD</td>\n",
       "      <td>0.2427</td>\n",
       "    </tr>\n",
       "    <tr>\n",
       "      <th>3</th>\n",
       "      <td>INDUS</td>\n",
       "      <td>0.0495</td>\n",
       "    </tr>\n",
       "    <tr>\n",
       "      <th>4</th>\n",
       "      <td>ZN</td>\n",
       "      <td>0.0358</td>\n",
       "    </tr>\n",
       "    <tr>\n",
       "      <th>5</th>\n",
       "      <td>B</td>\n",
       "      <td>0.0118</td>\n",
       "    </tr>\n",
       "    <tr>\n",
       "      <th>6</th>\n",
       "      <td>TAX</td>\n",
       "      <td>-0.0087</td>\n",
       "    </tr>\n",
       "    <tr>\n",
       "      <th>7</th>\n",
       "      <td>AGE</td>\n",
       "      <td>-0.0108</td>\n",
       "    </tr>\n",
       "    <tr>\n",
       "      <th>8</th>\n",
       "      <td>CRIM</td>\n",
       "      <td>-0.1335</td>\n",
       "    </tr>\n",
       "    <tr>\n",
       "      <th>9</th>\n",
       "      <td>LSTAT</td>\n",
       "      <td>-0.5471</td>\n",
       "    </tr>\n",
       "    <tr>\n",
       "      <th>10</th>\n",
       "      <td>PTRATIO</td>\n",
       "      <td>-0.9107</td>\n",
       "    </tr>\n",
       "    <tr>\n",
       "      <th>11</th>\n",
       "      <td>DIS</td>\n",
       "      <td>-1.3860</td>\n",
       "    </tr>\n",
       "    <tr>\n",
       "      <th>12</th>\n",
       "      <td>NOX</td>\n",
       "      <td>-15.4171</td>\n",
       "    </tr>\n",
       "  </tbody>\n",
       "</table>\n",
       "</div>"
      ],
      "text/plain": [
       "    feature     coef\n",
       "0        RM   4.0572\n",
       "1      CHAS   3.1198\n",
       "2       RAD   0.2427\n",
       "3     INDUS   0.0495\n",
       "4        ZN   0.0358\n",
       "5         B   0.0118\n",
       "6       TAX  -0.0087\n",
       "7       AGE  -0.0108\n",
       "8      CRIM  -0.1335\n",
       "9     LSTAT  -0.5471\n",
       "10  PTRATIO  -0.9107\n",
       "11      DIS  -1.3860\n",
       "12      NOX -15.4171"
      ]
     },
     "execution_count": 11,
     "metadata": {},
     "output_type": "execute_result"
    }
   ],
   "source": [
    "# COEFICIENTES SEM PADRONIZAÇÃO\n",
    "(pd.DataFrame({'feature': boston_data.columns[:-1],\n",
    "               'coef': model.coef_.round(4)})\n",
    "  .sort_values(by='coef', ascending = False)\n",
    "  .reset_index(drop = True))"
   ]
  },
  {
   "cell_type": "code",
   "execution_count": 12,
   "metadata": {
    "ExecuteTime": {
     "end_time": "2020-06-04T22:05:36.313672Z",
     "start_time": "2020-06-04T22:05:36.280199Z"
    }
   },
   "outputs": [
    {
     "data": {
      "text/plain": [
       "0.7112260057484934"
      ]
     },
     "execution_count": 12,
     "metadata": {},
     "output_type": "execute_result"
    }
   ],
   "source": [
    "from sklearn.preprocessing import StandardScaler\n",
    "\n",
    "x = boston_data.drop(columns=['target'])\n",
    "y = boston_data.target.values\n",
    "\n",
    "# Dividindo dados para treino e dados para teste\n",
    "x_train, x_test, y_train, y_test = train_test_split(x, y, test_size = 0.3, random_state = 42)\n",
    "\n",
    "# Agora, vamos usar os dados de treinamento para treinar o padronizador e depois aplicar \n",
    "# esse padronizador tanto no conjunto de características de treino quanto no conjunto de teste.\n",
    "scaler = StandardScaler().fit(x_train)\n",
    "x_train_scaled = scaler.transform(x_train)\n",
    "x_test_scaled = scaler.transform(x_test)\n",
    "\n",
    "# Treinando o modelo\n",
    "model = LinearRegression(normalize = True).fit(x_train_scaled, y_train)\n",
    "\n",
    "# Fazendo as previsões\n",
    "y_pred = model.predict(x_test_scaled)\n",
    "\n",
    "# Avaliando o modelo\n",
    "r2_score(y_test, y_pred)"
   ]
  },
  {
   "cell_type": "code",
   "execution_count": 13,
   "metadata": {
    "ExecuteTime": {
     "end_time": "2020-06-04T22:05:36.339918Z",
     "start_time": "2020-06-04T22:05:36.315948Z"
    }
   },
   "outputs": [
    {
     "data": {
      "text/html": [
       "<div>\n",
       "<style scoped>\n",
       "    .dataframe tbody tr th:only-of-type {\n",
       "        vertical-align: middle;\n",
       "    }\n",
       "\n",
       "    .dataframe tbody tr th {\n",
       "        vertical-align: top;\n",
       "    }\n",
       "\n",
       "    .dataframe thead th {\n",
       "        text-align: right;\n",
       "    }\n",
       "</style>\n",
       "<table border=\"1\" class=\"dataframe\">\n",
       "  <thead>\n",
       "    <tr style=\"text-align: right;\">\n",
       "      <th></th>\n",
       "      <th>feature</th>\n",
       "      <th>coef</th>\n",
       "    </tr>\n",
       "  </thead>\n",
       "  <tbody>\n",
       "    <tr>\n",
       "      <th>0</th>\n",
       "      <td>RM</td>\n",
       "      <td>2.9139</td>\n",
       "    </tr>\n",
       "    <tr>\n",
       "      <th>1</th>\n",
       "      <td>RAD</td>\n",
       "      <td>2.0942</td>\n",
       "    </tr>\n",
       "    <tr>\n",
       "      <th>2</th>\n",
       "      <td>B</td>\n",
       "      <td>1.0238</td>\n",
       "    </tr>\n",
       "    <tr>\n",
       "      <th>3</th>\n",
       "      <td>CHAS</td>\n",
       "      <td>0.8139</td>\n",
       "    </tr>\n",
       "    <tr>\n",
       "      <th>4</th>\n",
       "      <td>ZN</td>\n",
       "      <td>0.8084</td>\n",
       "    </tr>\n",
       "    <tr>\n",
       "      <th>5</th>\n",
       "      <td>INDUS</td>\n",
       "      <td>0.3431</td>\n",
       "    </tr>\n",
       "    <tr>\n",
       "      <th>6</th>\n",
       "      <td>AGE</td>\n",
       "      <td>-0.2989</td>\n",
       "    </tr>\n",
       "    <tr>\n",
       "      <th>7</th>\n",
       "      <td>CRIM</td>\n",
       "      <td>-1.1083</td>\n",
       "    </tr>\n",
       "    <tr>\n",
       "      <th>8</th>\n",
       "      <td>TAX</td>\n",
       "      <td>-1.4471</td>\n",
       "    </tr>\n",
       "    <tr>\n",
       "      <th>9</th>\n",
       "      <td>NOX</td>\n",
       "      <td>-1.7980</td>\n",
       "    </tr>\n",
       "    <tr>\n",
       "      <th>10</th>\n",
       "      <td>PTRATIO</td>\n",
       "      <td>-2.0523</td>\n",
       "    </tr>\n",
       "    <tr>\n",
       "      <th>11</th>\n",
       "      <td>DIS</td>\n",
       "      <td>-2.9425</td>\n",
       "    </tr>\n",
       "    <tr>\n",
       "      <th>12</th>\n",
       "      <td>LSTAT</td>\n",
       "      <td>-3.8858</td>\n",
       "    </tr>\n",
       "  </tbody>\n",
       "</table>\n",
       "</div>"
      ],
      "text/plain": [
       "    feature    coef\n",
       "0        RM  2.9139\n",
       "1       RAD  2.0942\n",
       "2         B  1.0238\n",
       "3      CHAS  0.8139\n",
       "4        ZN  0.8084\n",
       "5     INDUS  0.3431\n",
       "6       AGE -0.2989\n",
       "7      CRIM -1.1083\n",
       "8       TAX -1.4471\n",
       "9       NOX -1.7980\n",
       "10  PTRATIO -2.0523\n",
       "11      DIS -2.9425\n",
       "12    LSTAT -3.8858"
      ]
     },
     "execution_count": 13,
     "metadata": {},
     "output_type": "execute_result"
    }
   ],
   "source": [
    "# COEFICIENTES DEPOIS DA PADRONIZAÇÃO \n",
    "# COEFICIENTES \"CORRETOS\" para interpretar importância de características\n",
    "(pd.DataFrame({'feature': boston_data.columns[:-1],\n",
    "               'coef': model.coef_.round(4)})\n",
    "  .sort_values(by='coef', ascending = False)\n",
    "  .reset_index(drop = True))"
   ]
  },
  {
   "cell_type": "code",
   "execution_count": null,
   "metadata": {},
   "outputs": [],
   "source": []
  }
 ],
 "metadata": {
  "kernelspec": {
   "display_name": "Python 3",
   "language": "python",
   "name": "python3"
  },
  "language_info": {
   "codemirror_mode": {
    "name": "ipython",
    "version": 3
   },
   "file_extension": ".py",
   "mimetype": "text/x-python",
   "name": "python",
   "nbconvert_exporter": "python",
   "pygments_lexer": "ipython3",
   "version": "3.7.1"
  },
  "toc": {
   "base_numbering": 1,
   "nav_menu": {},
   "number_sections": true,
   "sideBar": true,
   "skip_h1_title": false,
   "title_cell": "Table of Contents",
   "title_sidebar": "Contents",
   "toc_cell": false,
   "toc_position": {},
   "toc_section_display": true,
   "toc_window_display": true
  }
 },
 "nbformat": 4,
 "nbformat_minor": 2
}
