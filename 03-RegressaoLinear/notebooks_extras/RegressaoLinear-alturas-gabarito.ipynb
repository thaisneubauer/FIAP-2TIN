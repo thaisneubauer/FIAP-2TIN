{
 "cells": [
  {
   "cell_type": "markdown",
   "metadata": {},
   "source": [
    "# Regressão Linear para alturas\n",
    "\n",
    "## Dados e tarefa:\n",
    "\n",
    "Vamos usar o famoso [Galton Dataset](https://dataverse.harvard.edu/dataset.xhtml?persistentId=doi:10.7910/DVN/T0HSJ1) para **prever a altura de pessoas** com base em características da família."
   ]
  },
  {
   "cell_type": "markdown",
   "metadata": {},
   "source": [
    "## Importação dos dados e análise exploratória"
   ]
  },
  {
   "cell_type": "code",
   "execution_count": 1,
   "metadata": {
    "ExecuteTime": {
     "end_time": "2020-06-04T22:00:18.899563Z",
     "start_time": "2020-06-04T22:00:16.958403Z"
    }
   },
   "outputs": [],
   "source": [
    "import numpy as np\n",
    "import pandas as pd\n",
    "import seaborn as sns\n",
    "import matplotlib.pyplot as plt\n",
    "from sklearn.preprocessing import LabelEncoder\n",
    "from sklearn.model_selection import train_test_split\n",
    "from sklearn.linear_model import LinearRegression\n",
    "from sklearn.metrics import r2_score\n",
    "\n",
    "%matplotlib inline "
   ]
  },
  {
   "cell_type": "code",
   "execution_count": 2,
   "metadata": {
    "ExecuteTime": {
     "end_time": "2020-06-04T22:00:18.924054Z",
     "start_time": "2020-06-04T22:00:18.902234Z"
    }
   },
   "outputs": [],
   "source": [
    "df = pd.read_csv('../data/galton.csv')"
   ]
  },
  {
   "cell_type": "code",
   "execution_count": 3,
   "metadata": {
    "ExecuteTime": {
     "end_time": "2020-06-04T22:00:18.946594Z",
     "start_time": "2020-06-04T22:00:18.927997Z"
    }
   },
   "outputs": [
    {
     "data": {
      "text/plain": [
       "(890, 6)"
      ]
     },
     "execution_count": 3,
     "metadata": {},
     "output_type": "execute_result"
    }
   ],
   "source": [
    "df.shape"
   ]
  },
  {
   "cell_type": "code",
   "execution_count": 4,
   "metadata": {
    "ExecuteTime": {
     "end_time": "2020-06-04T22:00:18.985734Z",
     "start_time": "2020-06-04T22:00:18.958749Z"
    }
   },
   "outputs": [
    {
     "data": {
      "text/html": [
       "<div>\n",
       "<style scoped>\n",
       "    .dataframe tbody tr th:only-of-type {\n",
       "        vertical-align: middle;\n",
       "    }\n",
       "\n",
       "    .dataframe tbody tr th {\n",
       "        vertical-align: top;\n",
       "    }\n",
       "\n",
       "    .dataframe thead th {\n",
       "        text-align: right;\n",
       "    }\n",
       "</style>\n",
       "<table border=\"1\" class=\"dataframe\">\n",
       "  <thead>\n",
       "    <tr style=\"text-align: right;\">\n",
       "      <th></th>\n",
       "      <th>Family</th>\n",
       "      <th>Father</th>\n",
       "      <th>Mother</th>\n",
       "      <th>Gender</th>\n",
       "      <th>Height</th>\n",
       "      <th>Kids</th>\n",
       "    </tr>\n",
       "  </thead>\n",
       "  <tbody>\n",
       "    <tr>\n",
       "      <th>0</th>\n",
       "      <td>1</td>\n",
       "      <td>1.9939</td>\n",
       "      <td>1.7018</td>\n",
       "      <td>M</td>\n",
       "      <td>1.85928</td>\n",
       "      <td>4</td>\n",
       "    </tr>\n",
       "    <tr>\n",
       "      <th>1</th>\n",
       "      <td>1</td>\n",
       "      <td>1.9939</td>\n",
       "      <td>1.7018</td>\n",
       "      <td>F</td>\n",
       "      <td>1.75768</td>\n",
       "      <td>4</td>\n",
       "    </tr>\n",
       "    <tr>\n",
       "      <th>2</th>\n",
       "      <td>1</td>\n",
       "      <td>1.9939</td>\n",
       "      <td>1.7018</td>\n",
       "      <td>F</td>\n",
       "      <td>1.75260</td>\n",
       "      <td>4</td>\n",
       "    </tr>\n",
       "    <tr>\n",
       "      <th>3</th>\n",
       "      <td>1</td>\n",
       "      <td>1.9939</td>\n",
       "      <td>1.7018</td>\n",
       "      <td>F</td>\n",
       "      <td>1.75260</td>\n",
       "      <td>4</td>\n",
       "    </tr>\n",
       "    <tr>\n",
       "      <th>4</th>\n",
       "      <td>2</td>\n",
       "      <td>1.9177</td>\n",
       "      <td>1.6891</td>\n",
       "      <td>M</td>\n",
       "      <td>1.86690</td>\n",
       "      <td>4</td>\n",
       "    </tr>\n",
       "  </tbody>\n",
       "</table>\n",
       "</div>"
      ],
      "text/plain": [
       "   Family  Father  Mother Gender   Height  Kids\n",
       "0       1  1.9939  1.7018      M  1.85928     4\n",
       "1       1  1.9939  1.7018      F  1.75768     4\n",
       "2       1  1.9939  1.7018      F  1.75260     4\n",
       "3       1  1.9939  1.7018      F  1.75260     4\n",
       "4       2  1.9177  1.6891      M  1.86690     4"
      ]
     },
     "execution_count": 4,
     "metadata": {},
     "output_type": "execute_result"
    }
   ],
   "source": [
    "df.head()"
   ]
  },
  {
   "cell_type": "markdown",
   "metadata": {},
   "source": [
    "**Dicionário de dados**:\n",
    "\n",
    "* **Family**: Família de origem\n",
    "* **Father**: Altura do Pai\n",
    "* **Mother**: Altura da Mãe\n",
    "* **Gender**: Sexo do Filho\n",
    "* **Height**: Altura do Filho\n",
    "* **Kids**: Quantidade de Filhos\n"
   ]
  },
  {
   "cell_type": "code",
   "execution_count": 5,
   "metadata": {
    "ExecuteTime": {
     "end_time": "2020-06-04T22:00:19.024118Z",
     "start_time": "2020-06-04T22:00:19.002244Z"
    }
   },
   "outputs": [
    {
     "data": {
      "text/html": [
       "<div>\n",
       "<style scoped>\n",
       "    .dataframe tbody tr th:only-of-type {\n",
       "        vertical-align: middle;\n",
       "    }\n",
       "\n",
       "    .dataframe tbody tr th {\n",
       "        vertical-align: top;\n",
       "    }\n",
       "\n",
       "    .dataframe thead th {\n",
       "        text-align: right;\n",
       "    }\n",
       "</style>\n",
       "<table border=\"1\" class=\"dataframe\">\n",
       "  <thead>\n",
       "    <tr style=\"text-align: right;\">\n",
       "      <th></th>\n",
       "      <th>Family</th>\n",
       "      <th>Father</th>\n",
       "      <th>Mother</th>\n",
       "      <th>Gender</th>\n",
       "      <th>Height</th>\n",
       "      <th>Kids</th>\n",
       "      <th>Gender_</th>\n",
       "    </tr>\n",
       "  </thead>\n",
       "  <tbody>\n",
       "    <tr>\n",
       "      <th>0</th>\n",
       "      <td>1</td>\n",
       "      <td>1.9939</td>\n",
       "      <td>1.7018</td>\n",
       "      <td>M</td>\n",
       "      <td>1.85928</td>\n",
       "      <td>4</td>\n",
       "      <td>1</td>\n",
       "    </tr>\n",
       "    <tr>\n",
       "      <th>1</th>\n",
       "      <td>1</td>\n",
       "      <td>1.9939</td>\n",
       "      <td>1.7018</td>\n",
       "      <td>F</td>\n",
       "      <td>1.75768</td>\n",
       "      <td>4</td>\n",
       "      <td>0</td>\n",
       "    </tr>\n",
       "    <tr>\n",
       "      <th>2</th>\n",
       "      <td>1</td>\n",
       "      <td>1.9939</td>\n",
       "      <td>1.7018</td>\n",
       "      <td>F</td>\n",
       "      <td>1.75260</td>\n",
       "      <td>4</td>\n",
       "      <td>0</td>\n",
       "    </tr>\n",
       "    <tr>\n",
       "      <th>3</th>\n",
       "      <td>1</td>\n",
       "      <td>1.9939</td>\n",
       "      <td>1.7018</td>\n",
       "      <td>F</td>\n",
       "      <td>1.75260</td>\n",
       "      <td>4</td>\n",
       "      <td>0</td>\n",
       "    </tr>\n",
       "    <tr>\n",
       "      <th>4</th>\n",
       "      <td>2</td>\n",
       "      <td>1.9177</td>\n",
       "      <td>1.6891</td>\n",
       "      <td>M</td>\n",
       "      <td>1.86690</td>\n",
       "      <td>4</td>\n",
       "      <td>1</td>\n",
       "    </tr>\n",
       "  </tbody>\n",
       "</table>\n",
       "</div>"
      ],
      "text/plain": [
       "   Family  Father  Mother Gender   Height  Kids  Gender_\n",
       "0       1  1.9939  1.7018      M  1.85928     4        1\n",
       "1       1  1.9939  1.7018      F  1.75768     4        0\n",
       "2       1  1.9939  1.7018      F  1.75260     4        0\n",
       "3       1  1.9939  1.7018      F  1.75260     4        0\n",
       "4       2  1.9177  1.6891      M  1.86690     4        1"
      ]
     },
     "execution_count": 5,
     "metadata": {},
     "output_type": "execute_result"
    }
   ],
   "source": [
    "# Precisamos transformar a variável Gender em número\n",
    "df['Gender_'] = LabelEncoder().fit_transform(df.Gender)\n",
    "df.head()"
   ]
  },
  {
   "cell_type": "code",
   "execution_count": 6,
   "metadata": {
    "ExecuteTime": {
     "end_time": "2020-06-04T22:00:19.054046Z",
     "start_time": "2020-06-04T22:00:19.028183Z"
    }
   },
   "outputs": [
    {
     "data": {
      "text/html": [
       "<div>\n",
       "<style scoped>\n",
       "    .dataframe tbody tr th:only-of-type {\n",
       "        vertical-align: middle;\n",
       "    }\n",
       "\n",
       "    .dataframe tbody tr th {\n",
       "        vertical-align: top;\n",
       "    }\n",
       "\n",
       "    .dataframe thead th {\n",
       "        text-align: right;\n",
       "    }\n",
       "</style>\n",
       "<table border=\"1\" class=\"dataframe\">\n",
       "  <thead>\n",
       "    <tr style=\"text-align: right;\">\n",
       "      <th></th>\n",
       "      <th>Father</th>\n",
       "      <th>Mother</th>\n",
       "      <th>Gender_</th>\n",
       "      <th>Kids</th>\n",
       "      <th>Height</th>\n",
       "    </tr>\n",
       "  </thead>\n",
       "  <tbody>\n",
       "    <tr>\n",
       "      <th>0</th>\n",
       "      <td>1.9939</td>\n",
       "      <td>1.7018</td>\n",
       "      <td>1</td>\n",
       "      <td>4</td>\n",
       "      <td>1.85928</td>\n",
       "    </tr>\n",
       "    <tr>\n",
       "      <th>1</th>\n",
       "      <td>1.9939</td>\n",
       "      <td>1.7018</td>\n",
       "      <td>0</td>\n",
       "      <td>4</td>\n",
       "      <td>1.75768</td>\n",
       "    </tr>\n",
       "    <tr>\n",
       "      <th>2</th>\n",
       "      <td>1.9939</td>\n",
       "      <td>1.7018</td>\n",
       "      <td>0</td>\n",
       "      <td>4</td>\n",
       "      <td>1.75260</td>\n",
       "    </tr>\n",
       "    <tr>\n",
       "      <th>3</th>\n",
       "      <td>1.9939</td>\n",
       "      <td>1.7018</td>\n",
       "      <td>0</td>\n",
       "      <td>4</td>\n",
       "      <td>1.75260</td>\n",
       "    </tr>\n",
       "    <tr>\n",
       "      <th>4</th>\n",
       "      <td>1.9177</td>\n",
       "      <td>1.6891</td>\n",
       "      <td>1</td>\n",
       "      <td>4</td>\n",
       "      <td>1.86690</td>\n",
       "    </tr>\n",
       "  </tbody>\n",
       "</table>\n",
       "</div>"
      ],
      "text/plain": [
       "   Father  Mother  Gender_  Kids   Height\n",
       "0  1.9939  1.7018        1     4  1.85928\n",
       "1  1.9939  1.7018        0     4  1.75768\n",
       "2  1.9939  1.7018        0     4  1.75260\n",
       "3  1.9939  1.7018        0     4  1.75260\n",
       "4  1.9177  1.6891        1     4  1.86690"
      ]
     },
     "execution_count": 6,
     "metadata": {},
     "output_type": "execute_result"
    }
   ],
   "source": [
    "df = df.drop(columns = ['Gender', 'Family'])[['Father', 'Mother', 'Gender_', 'Kids', 'Height']]\n",
    "df.head()"
   ]
  },
  {
   "cell_type": "markdown",
   "metadata": {},
   "source": [
    "## Regressão Linear\n",
    "\n",
    "Complete a célula abaixo para criar, treinar e avaliar um modelo de Regressão Linear usando todas as características disponíveis no dataframe. Lembre-se de não utilizar a variável resposta (\"fare_amount\"), a variável identificadora da corrida (\"key\") e não precisamos da \"pickup_datetime\", pois vamos usar as características derivadas dela que criamos (hour, day_of_week, day, month, year).\n",
    "\n",
    "O valor do $R^2$ alcançado pelo modelo deve ser de $0.6602$."
   ]
  },
  {
   "cell_type": "code",
   "execution_count": 7,
   "metadata": {
    "ExecuteTime": {
     "end_time": "2020-06-04T22:00:19.117971Z",
     "start_time": "2020-06-04T22:00:19.056722Z"
    }
   },
   "outputs": [
    {
     "data": {
      "text/plain": [
       "0.6602"
      ]
     },
     "execution_count": 7,
     "metadata": {},
     "output_type": "execute_result"
    }
   ],
   "source": [
    "# Dividindo x e y\n",
    "x = df.drop(columns = 'Height')\n",
    "y = df.Height\n",
    "\n",
    "# Dividindo dados para treino e dados para teste\n",
    "x_train, x_test, y_train, y_test = train_test_split(x, y, test_size = 0.3, \n",
    "                                                    random_state = 42)\n",
    "\n",
    "# Treinando o modelo\n",
    "model = LinearRegression().fit(x_train, y_train)\n",
    "\n",
    "# Fazendo as predições\n",
    "y_pred = model.predict(x_test)\n",
    "\n",
    "# Calculando o erro r2- medida de qualidade do modelo\n",
    "round(r2_score(y_test, y_pred),4)"
   ]
  }
 ],
 "metadata": {
  "kernelspec": {
   "display_name": "Python 3",
   "language": "python",
   "name": "python3"
  },
  "language_info": {
   "codemirror_mode": {
    "name": "ipython",
    "version": 3
   },
   "file_extension": ".py",
   "mimetype": "text/x-python",
   "name": "python",
   "nbconvert_exporter": "python",
   "pygments_lexer": "ipython3",
   "version": "3.7.1"
  },
  "toc": {
   "base_numbering": 1,
   "nav_menu": {},
   "number_sections": true,
   "sideBar": true,
   "skip_h1_title": false,
   "title_cell": "Table of Contents",
   "title_sidebar": "Contents",
   "toc_cell": false,
   "toc_position": {},
   "toc_section_display": true,
   "toc_window_display": true
  }
 },
 "nbformat": 4,
 "nbformat_minor": 2
}
